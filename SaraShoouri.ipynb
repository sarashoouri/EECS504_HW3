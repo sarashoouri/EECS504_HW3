{
 "cells": [
  {
   "cell_type": "markdown",
   "metadata": {
    "colab_type": "text",
    "id": "Uqh1kK1LeS2U"
   },
   "source": [
    "#EECS 504 PS3: Motion Magnification and Texture Synthesis\n",
    "\n",
    "Please provide the following information \n",
    "(e.g. Andrew Owens, ahowens):\n",
    "\n",
    "Sara Shoouri sshoouri\n",
    "\n",
    "\n"
   ]
  },
  {
   "cell_type": "markdown",
   "metadata": {
    "colab_type": "text",
    "id": "Wug5j9jHeeAx"
   },
   "source": [
    "# Starting\n",
    "\n",
    "Run the following code to import the modules you'll need. After your finish the assignment, remember to run all cells and save the notebook to your local machine as a .ipynb file for Canvas submission."
   ]
  },
  {
   "cell_type": "code",
   "execution_count": 0,
   "metadata": {
    "colab": {},
    "colab_type": "code",
    "id": "loxyYKR1ZBsG"
   },
   "outputs": [],
   "source": [
    "%matplotlib inline\n",
    "import numpy as np\n",
    "from numpy.fft import fft2, ifft2, fftshift, ifftshift\n",
    "from numpy import angle, real\n",
    "from numpy import exp, abs, pi, sqrt\n",
    "import matplotlib.pyplot as plt\n",
    "import cv2\n",
    "import math\n",
    "\n",
    "import random\n",
    "import sys\n",
    "from scipy import ndimage\n",
    "\n",
    "# cv2.imshow does not work in Colab, we use cv2_imshow instead\n",
    "from google.colab.patches import cv2_imshow"
   ]
  },
  {
   "cell_type": "code",
   "execution_count": 0,
   "metadata": {
    "colab": {},
    "colab_type": "code",
    "id": "-O7p5RhASRaB"
   },
   "outputs": [],
   "source": [
    "%%capture\n",
    "# download some images\n",
    "# should take a second to run\n",
    "\n",
    "# for motion magnification problem\n",
    "! wget -O bill.avi \"https://drive.google.com/uc?export=download&id=1QR2dCShn-fYYEvcAQ8J4mnIo_ISqrjc7\"\n",
    "\n",
    "# for texture synthesis problem\n",
    "! wget -O texture.jpg \"https://drive.google.com/uc?export=download&id=11IlTZNLwfYsXQt2L1GbKdNqcj6JNkQik\"\n",
    "! wget -O rings.jpg \"https://drive.google.com/uc?export=download&id=1fYtmQe_a40BWg1OU178SFbcU4KRZuphn\"\n",
    "! wget -O jigsaw.jpg \"https://drive.google.com/uc?export=download&id=1SlYUw6vT9_PNP8XNhQfAu36AtPJ-PMpk\""
   ]
  },
  {
   "cell_type": "markdown",
   "metadata": {
    "colab_type": "text",
    "id": "RpV5DTNmaBDk"
   },
   "source": [
    "## **Problem 3.1 (a)**"
   ]
  },
  {
   "cell_type": "code",
   "execution_count": 0,
   "metadata": {
    "colab": {},
    "colab_type": "code",
    "id": "ijhkAqcdZM3v"
   },
   "outputs": [],
   "source": [
    "def imshow(im, cmap='gray'):\n",
    "    # clip image from 0-1\n",
    "    im = np.clip(im, 0, 1)\n",
    "    plt.imshow(im, cmap=cmap)"
   ]
  },
  {
   "cell_type": "code",
   "execution_count": 0,
   "metadata": {
    "colab": {},
    "colab_type": "code",
    "id": "Mo2f0-Y6ZQyf"
   },
   "outputs": [],
   "source": [
    "# 9x9 images\n",
    "im_size = 9\n",
    "\n",
    "# we would like to magnify the change between im1 and im2 by 4x\n",
    "magnification_factor = 4;\n",
    "\n",
    "# horizontal movement from (0, 0) to (0, 1)\n",
    "im1 = np.zeros([im_size, im_size])\n",
    "im2 = np.zeros([im_size, im_size])\n",
    "im1[0,0] = 1\n",
    "im2[0,1] = 1\n",
    "\n",
    "ff1 = fftshift(fft2(im1))\n",
    "ff2 = fftshift(fft2(im2))"
   ]
  },
  {
   "cell_type": "markdown",
   "metadata": {
    "colab_type": "text",
    "id": "USjr94uIXJ1Y"
   },
   "source": [
    "### This is a quick tutorial for those who are not familiar with complex numbers in python."
   ]
  },
  {
   "cell_type": "code",
   "execution_count": 360,
   "metadata": {
    "colab": {
     "base_uri": "https://localhost:8080/",
     "height": 119
    },
    "colab_type": "code",
    "id": "KOZCXoSWZV2D",
    "outputId": "c8e4e966-fa49-4b06-bf01-725df408821e"
   },
   "outputs": [
    {
     "name": "stdout",
     "output_type": "stream",
     "text": [
      "x = (1+1j)\n",
      "x.real 1.0 x.imag 1.0\n",
      "Magnitude 1.4142135623730951\n",
      "Phase 0.7853981633974483\n",
      "y = (1.0000000000000002+1j)\n",
      "y = 0.7853981633974482\n"
     ]
    }
   ],
   "source": [
    "# create a complex number\n",
    "x = 1 + 1j\n",
    "print(\"x =\", x)\n",
    "print(\"x.real\", x.real, \"x.imag\", x.imag)\n",
    "\n",
    "# magnitude and phase of complex number\n",
    "mag = abs(x)\n",
    "phase = angle(x)\n",
    "\n",
    "print(\"Magnitude\", mag)\n",
    "print(\"Phase\", phase)\n",
    "\n",
    "# Euler's formula\n",
    "y = mag * exp(phase * 1j)\n",
    "print(\"y =\", y)\n",
    "k=angle(y)\n",
    "print(\"y =\", k)\n",
    "im1_dft = fft2(im1)\n",
    "angle(im1_dft);"
   ]
  },
  {
   "cell_type": "code",
   "execution_count": 0,
   "metadata": {
    "colab": {},
    "colab_type": "code",
    "id": "uWusq5kFZSEw"
   },
   "outputs": [],
   "source": [
    "def magnify_change(im1, im2, magnification_factor):\n",
    "    \n",
    "    # find phase shift in frequency domain\n",
    "    im1_dft = fft2(im1)\n",
    "    im2_dft = fft2(im2)\n",
    "    phase_shift = angle(im2_dft)-angle(im1_dft);\n",
    "    \n",
    "    # magnify the phase change in frequency domain \n",
    "    magnified_dft = abs(im1_dft)*exp((angle(im1_dft)+magnification_factor*phase_shift) * 1j);\n",
    "    \n",
    "    # what does the magnified phase change cause in image space?\n",
    "    magnified = ifft2(magnified_dft).real\n",
    "    \n",
    "    return magnified"
   ]
  },
  {
   "cell_type": "code",
   "execution_count": 362,
   "metadata": {
    "colab": {
     "base_uri": "https://localhost:8080/",
     "height": 261
    },
    "colab_type": "code",
    "id": "YulC7V6nZW2u",
    "outputId": "a4a63e12-378e-419f-c998-7d59695cff9a"
   },
   "outputs": [
    {
     "data": {
      "image/png": "[encoded data removed]",
      "text/plain": [
       "<Figure size 864x2592 with 3 Axes>"
      ]
     },
     "metadata": {
      "tags": []
     },
     "output_type": "display_data"
    }
   ],
   "source": [
    "# magnify position change\n",
    "magnified = magnify_change(im1, im2, magnification_factor);\n",
    "\n",
    "plt.figure(figsize=(12,36))\n",
    "plt.subplot(131)\n",
    "imshow(im1); plt.title('im1');\n",
    "\n",
    "plt.subplot(132)\n",
    "imshow(im2); plt.title('im2');\n",
    "\n",
    "plt.subplot(133)\n",
    "imshow(magnified); plt.title('magnified');"
   ]
  },
  {
   "cell_type": "markdown",
   "metadata": {
    "colab_type": "text",
    "id": "nQAF4he7Za_8"
   },
   "source": [
    "## **Problem 3.1 (b)**\n"
   ]
  },
  {
   "cell_type": "code",
   "execution_count": 363,
   "metadata": {
    "colab": {
     "base_uri": "https://localhost:8080/",
     "height": 261
    },
    "colab_type": "code",
    "id": "1LPwI_TsZfDR",
    "outputId": "1aa9dab1-9fa1-4d3c-9757-454415c3bfdf"
   },
   "outputs": [
    {
     "data": {
      "image/png": "[encoded data removed]",
      "text/plain": [
       "<Figure size 864x2592 with 3 Axes>"
      ]
     },
     "metadata": {
      "tags": []
     },
     "output_type": "display_data"
    }
   ],
   "source": [
    "# 9x9 images\n",
    "im_size = 9\n",
    "\n",
    "# we would like to magnify the change between im1 and im2 by 4x\n",
    "magnification_factor = 4\n",
    "\n",
    "# horizontal movement from (0, 0) to (0, 1)\n",
    "# additional vertical movement from (8, 8) to (7, 8)\n",
    "im1 = np.zeros([im_size, im_size])\n",
    "im2 = np.zeros([im_size, im_size])\n",
    "im1[0,0] = 1\n",
    "im2[0,1] = 1\n",
    "im1[8,8] = 1\n",
    "im2[7,8] = 1\n",
    "\n",
    "# magnify position change\n",
    "magnified = magnify_change(im1, im2, magnification_factor)\n",
    "\n",
    "\n",
    "plt.figure(figsize=(12,36))\n",
    "plt.subplot(131)\n",
    "imshow(im1); plt.title('im1');\n",
    "\n",
    "plt.subplot(132)\n",
    "imshow(im2); plt.title('im2');\n",
    "\n",
    "plt.subplot(133)\n",
    "imshow(magnified); plt.title('magnified');\n"
   ]
  },
  {
   "cell_type": "code",
   "execution_count": 364,
   "metadata": {
    "colab": {
     "base_uri": "https://localhost:8080/",
     "height": 261
    },
    "colab_type": "code",
    "id": "ptk9CUtqqJ71",
    "outputId": "fe620c08-6ef8-4236-8d49-a16eac67873a"
   },
   "outputs": [
    {
     "data": {
      "image/png": "[encoded data removed]",
      "text/plain": [
       "<Figure size 864x2592 with 3 Axes>"
      ]
     },
     "metadata": {
      "tags": []
     },
     "output_type": "display_data"
    }
   ],
   "source": [
    "im_size = 9\n",
    "\n",
    "# we would like to magnify the change between im1 and im2 by 4x\n",
    "magnification_factor = 4\n",
    "\n",
    "# horizontal movement from (0, 0) to (0, 1)\n",
    "# additional vertical movement from (8, 8) to (7, 8)\n",
    "im1 = np.zeros([im_size, im_size])\n",
    "im2 = np.zeros([im_size, im_size])\n",
    "im1[8,8] = 1\n",
    "im2[7,8] = 1\n",
    "\n",
    "# magnify position change\n",
    "magnified = magnify_change(im1, im2, magnification_factor)\n",
    "\n",
    "\n",
    "plt.figure(figsize=(12,36))\n",
    "plt.subplot(131)\n",
    "imshow(im1); plt.title('im1');\n",
    "\n",
    "plt.subplot(132)\n",
    "imshow(im2); plt.title('im2');\n",
    "\n",
    "plt.subplot(133)\n",
    "imshow(magnified); plt.title('vertically- magnified');"
   ]
  },
  {
   "cell_type": "markdown",
   "metadata": {
    "colab_type": "text",
    "id": "Gp3bUE_bnpSy"
   },
   "source": [
    "The Function is not working because of the followinf reasons:\n",
    "\n",
    "Image is a 2D signal so we are using 2D fft and the phase shifting should be written as:\n",
    "DFT{f[n-n0,m-m0]}=F[u,v]exp(-j2*pi(un0/N + vm0/M)) which can be separated as mulitipication of two signals: exp(-j2*pi(un0/N)) and exp(-j2*pi(vm0/M)). \n",
    "When the image is shifting in just one way and considering the other shift term as zero we will get just one exp(-j2*pi(un0/N)) or exp(-j2*pi(vm0/M)), so this will be same as 1D and the function written up is working just like that, if we have shifting in two different directions the term exp(-j2*pi(un0/N + vm0/M)) will appear and we need to find n0 and m0 separately.\n",
    "\n",
    "\n"
   ]
  },
  {
   "cell_type": "markdown",
   "metadata": {
    "colab_type": "text",
    "id": "XyIt4H8MZnno"
   },
   "source": [
    "## **Problem 3.1 (c)**\n"
   ]
  },
  {
   "cell_type": "code",
   "execution_count": 366,
   "metadata": {
    "colab": {
     "base_uri": "https://localhost:8080/",
     "height": 278
    },
    "colab_type": "code",
    "id": "NomQMElTZYiq",
    "outputId": "761b4f78-9479-4361-d782-339893c961c2"
   },
   "outputs": [
    {
     "data": {
      "text/plain": [
       "Text(0.5, 1.0, 'magnified')"
      ]
     },
     "execution_count": 366,
     "metadata": {
      "tags": []
     },
     "output_type": "execute_result"
    },
    {
     "data": {
      "image/png": "[encoded data removed]",
      "text/plain": [
       "<Figure size 864x2592 with 3 Axes>"
      ]
     },
     "metadata": {
      "tags": []
     },
     "output_type": "display_data"
    }
   ],
   "source": [
    "# 9x9 images\n",
    "im_size = 9\n",
    "\n",
    "# we would like to magnify the change between im1 and im2 by 4x\n",
    "magnification_factor = 4\n",
    "\n",
    "# width of our Gaussian window\n",
    "sigma = 2\n",
    "\n",
    "# horizontal movement from (0, 0) to (0, 1)\n",
    "# additional vertical movement from (8, 8) to (7, 8)\n",
    "im1 = np.zeros([im_size, im_size])\n",
    "im2 = np.zeros([im_size, im_size])\n",
    "im1[0,0] = 1\n",
    "im2[0,1] = 1\n",
    "im1[8,8] = 1\n",
    "im2[7,8] = 1\n",
    "\n",
    "# we will magnify windows of the image and aggregate the results\n",
    "magnified = np.zeros([im_size, im_size])\n",
    "output=np.zeros([im_size, im_size]);\n",
    "mask=np.ones([im_size, im_size]);\n",
    "# meshgrid for computing Gaussian window\n",
    "X, Y = np.meshgrid(np.arange(im_size), np.arange(im_size))\n",
    "padW = (9 - 1) // 2;\n",
    "padH=(9-1)//2\n",
    "padded = np.zeros((9+ 2*padH, 9 + 2*padW));\n",
    "padded[padH:padded.shape[0]-padH, padW:padded.shape[1]-padW] = mask;\n",
    "ax = np.linspace(-(9 - 1) / 2., (9 - 1) / 2., 9)\n",
    "xx, yy = np.meshgrid(ax, ax)\n",
    "p=np.zeros((9,9)) \n",
    "for y in range(0, im_size,4):\n",
    "    for x in range(0, im_size,4):\n",
    "        p=np.zeros((9,9))     \n",
    "\n",
    "        gaussian_mask = np.exp(-0.5 * (np.square(X-x) + np.square(Y-y)) / (sigma**2))/(2*(np.pi)*sigma**2);\n",
    "        #weigth=np.sum(gaussian_mask*padded[y:y+9,x:x+9])\n",
    "        #L=(((gaussian_mask*padded[y:y+9,x:x+9])>0)==1)\n",
    "        #Q=np.fliplr(np.flipud(L))\n",
    "        #p[Q==True]=((gaussian_mask*padded[y:y+9,x:x+9])[L==True])/weigth;\n",
    "        window_magnified = magnify_change(np.multiply(im1,gaussian_mask),np.multiply(im2,gaussian_mask),magnification_factor)\n",
    "        #print(\"L,\",window_magnified)\n",
    "        magnified = magnified + window_magnified\n",
    "        \n",
    "plt.figure(figsize=(12,36))\n",
    "plt.subplot(131)\n",
    "imshow(im1); plt.title('im1');\n",
    "\n",
    "plt.subplot(132)\n",
    "imshow(im2); plt.title('im2');\n",
    "\n",
    "plt.subplot(133)\n",
    "imshow(magnified); plt.title('magnified')"
   ]
  },
  {
   "cell_type": "markdown",
   "metadata": {
    "colab_type": "text",
    "id": "9Kzn223xZsN3"
   },
   "source": [
    "## **Problem 3.1 (d) - Motion Magnification**\n"
   ]
  },
  {
   "cell_type": "code",
   "execution_count": 288,
   "metadata": {
    "colab": {
     "base_uri": "https://localhost:8080/",
     "height": 34
    },
    "colab_type": "code",
    "id": "0l47cx31ZvpO",
    "outputId": "1697063b-46d8-4595-f309-5f8f5e815e8c"
   },
   "outputs": [
    {
     "name": "stdout",
     "output_type": "stream",
     "text": [
      "frames size: (60, 200, 200, 3) # (nb_frames, height, width, channel)\n"
     ]
    }
   ],
   "source": [
    "import numpy as np\n",
    "import cv2\n",
    "\n",
    "cap = cv2.VideoCapture('bill.avi')\n",
    "\n",
    "# list of video frames\n",
    "frames = []\n",
    "\n",
    "while(cap.isOpened()):\n",
    "    # read frame from the video\n",
    "    ret, frame = cap.read()\n",
    "    \n",
    "    if ret is False:\n",
    "        break\n",
    "\n",
    "    frame = cv2.resize(frame, (200, 200), interpolation=cv2.INTER_CUBIC)\n",
    "    frames.append(frame)\n",
    "\n",
    "cap.release()\n",
    "\n",
    "# scale frame to 0-1\n",
    "frames = np.array(frames) / 255.\n",
    "print(\"frames size:\", frames.shape, \"# (nb_frames, height, width, channel)\")\n",
    "\n",
    "# get height, width\n",
    "num_frames = frames.shape[0]\n",
    "height = frames.shape[1]\n",
    "width = frames.shape[2]"
   ]
  },
  {
   "cell_type": "code",
   "execution_count": 367,
   "metadata": {
    "colab": {
     "base_uri": "https://localhost:8080/",
     "height": 289
    },
    "colab_type": "code",
    "id": "RbB0d5fDZ1DQ",
    "outputId": "42123cea-0b70-4a8a-b668-fde4b55185bf"
   },
   "outputs": [
    {
     "name": "stdout",
     "output_type": "stream",
     "text": [
      "1/16\n",
      "2/16\n",
      "3/16\n",
      "4/16\n",
      "5/16\n",
      "6/16\n",
      "7/16\n",
      "8/16\n",
      "9/16\n",
      "10/16\n",
      "11/16\n",
      "12/16\n",
      "13/16\n",
      "14/16\n",
      "15/16\n",
      "16/16\n"
     ]
    }
   ],
   "source": [
    "# 10x magnification of motion\n",
    "magnification_factor = 10\n",
    "\n",
    "# width of Gaussian window\n",
    "sigma = 26\n",
    "\n",
    "# alpha for moving average\n",
    "alpha = 0.5\n",
    "\n",
    "# we will magnify windows of the video and aggregate the results\n",
    "magnified = np.zeros_like(frames)\n",
    "\n",
    "# meshgrid for computing Gaussian window\n",
    "X, Y = np.meshgrid(np.arange(width), np.arange(height))\n",
    "\n",
    "# iterate over windows of the frames\n",
    "x_range = list(range(0, width, 2*sigma))\n",
    "y_range = list(range(0, height, 2*sigma))\n",
    "num_windows = len(x_range) * len(y_range)\n",
    "window_index = 1\n",
    "mask=np.ones([height, width]);\n",
    "padW = (width - 1) // 2;\n",
    "padH=(height-1)//2\n",
    "padded = np.zeros((height+ 2*padH, width+ 2*padW));\n",
    "padded[padH:padded.shape[0]-padH, padW:padded.shape[1]-padW] = mask;\n",
    "for y in y_range:\n",
    "    for x in x_range:\n",
    "        for channel_index in range(3): # RGB channels\n",
    "            for frame_index in range(num_frames):\n",
    "                \n",
    "                # create windowed frames\n",
    "                p=np.zeros((height,width))\n",
    "                gaussian_mask = np.exp(-0.5 * (np.square(X-x) + np.square(Y-y)) / (sigma**2))/(2*(np.pi)*sigma**2);\n",
    "                \n",
    "                windowed_frames = gaussian_mask* frames[frame_index,:,:,channel_index]\n",
    "                \n",
    "                windowed_frames=windowed_frames;\n",
    "                # initialize moving average of phase for current window/channel\n",
    "                if frame_index == 0:\n",
    "                    window_average_phase = angle(fft2(windowed_frames))\n",
    "                \n",
    "                window_dft = fft2(windowed_frames)\n",
    "                \n",
    "                # compute phase shift and constrain to [-pi, pi] since\n",
    "                # angle space wraps around\n",
    "                window_phase_shift = angle(window_dft) - window_average_phase\n",
    "                window_phase_shift[window_phase_shift > pi] = window_phase_shift[window_phase_shift > pi] - 2 * pi\n",
    "                window_phase_shift[window_phase_shift < -pi] = window_phase_shift[window_phase_shift < -pi] + 2 * pi\n",
    "                \n",
    "                # magnify phase shift\n",
    "                window_magnified_phase = magnification_factor*window_phase_shift;\n",
    "                 \n",
    "                # go back to image space\n",
    "                window_magnified_dft = abs(window_dft)*exp( (window_average_phase+window_magnified_phase)* 1j);\n",
    "                window_magnified = abs(ifft2(window_magnified_dft))\n",
    "                \n",
    "                # update moving average\n",
    "                window_phase_unwrapped = window_average_phase + window_phase_shift\n",
    "                window_average_phase = alpha * window_average_phase + (1 - alpha) * window_phase_unwrapped\n",
    "                \n",
    "                # aggregate\n",
    "                magnified[frame_index,:,:,channel_index] = magnified[frame_index,:,:,channel_index] + window_magnified\n",
    "        \n",
    "        # print progress\n",
    "        print('{}/{}'.format(window_index, num_windows))\n",
    "        window_index += 1"
   ]
  },
  {
   "cell_type": "code",
   "execution_count": 0,
   "metadata": {
    "colab": {},
    "colab_type": "code",
    "id": "T0LAo9tGZ3IL"
   },
   "outputs": [],
   "source": [
    "outputs = magnified / np.max(magnified)\n",
    "for channel_index in range(3):\n",
    "    original_frame = frames[0,:,:,channel_index]\n",
    "    magnified_frame = outputs[0,:,:,channel_index]\n",
    "    scale = np.std(original_frame[:]) / np.std(magnified_frame[:])\n",
    "    original_mean = np.mean(original_frame[:])\n",
    "    magnified_mean = np.mean(magnified_frame[:])\n",
    "    outputs[:,:,:,channel_index] = magnified_mean + scale * (outputs[:,:,:,channel_index] - magnified_mean)\n",
    "\n",
    "outputs = np.clip(outputs, 0, 1)"
   ]
  },
  {
   "cell_type": "code",
   "execution_count": 0,
   "metadata": {
    "colab": {},
    "colab_type": "code",
    "id": "eGwdxkFrZ4K9"
   },
   "outputs": [],
   "source": [
    "# create output video\n",
    "fourcc = cv2.VideoWriter_fourcc('M','J','P','G')\n",
    "# fourcc = cv2.VideoWriter_fourcc(*'XVID')\n",
    "out = cv2.VideoWriter('bill_magnified.avi',fourcc, 30.0, (height, width))\n",
    "\n",
    "for i in range(frames.shape[0]):\n",
    "    # scale the frame back to 0-255\n",
    "    frame = (np.clip(outputs[i], 0, 1) * 255).astype(np.uint8)\n",
    "    \n",
    "    # write frame to output video\n",
    "    out.write(frame)\n",
    "\n",
    "out.release()"
   ]
  },
  {
   "cell_type": "code",
   "execution_count": 0,
   "metadata": {
    "colab": {},
    "colab_type": "code",
    "id": "8QgaekEWZ6lE"
   },
   "outputs": [],
   "source": [
    "# Only for colab downloading videos\n",
    "try:\n",
    "    from google.colab import files\n",
    "    files.download('bill_magnified.avi')\n",
    "except:\n",
    "    print(\"Only for google colab\")"
   ]
  },
  {
   "cell_type": "markdown",
   "metadata": {
    "colab_type": "text",
    "id": "NPrGFZZ-aGcx"
   },
   "source": [
    "## **Problem 3.2 - Texture Synthesis**\n",
    "\n",
    "Note that the functions provided below are templates. Feel free to add your own helper functions as needed.\n",
    "\n",
    "You can reference the pseudocode provided here:  https://people.eecs.berkeley.edu/~efros/research/NPS/alg.html."
   ]
  },
  {
   "cell_type": "markdown",
   "metadata": {
    "colab_type": "text",
    "id": "DxMJ7MolbtZa"
   },
   "source": [
    "### Find matches function"
   ]
  },
  {
   "cell_type": "code",
   "execution_count": 0,
   "metadata": {
    "colab": {},
    "colab_type": "code",
    "id": "aay0xFu3b0rS"
   },
   "outputs": [],
   "source": [
    "import random\n",
    "from math import ceil, floor "
   ]
  },
  {
   "cell_type": "code",
   "execution_count": 0,
   "metadata": {
    "colab": {},
    "colab_type": "code",
    "id": "CjlU0w7ktM4F"
   },
   "outputs": [],
   "source": [
    "def find_mathces(template, sample, valid_mask, gauss_mask,window_size):\n",
    "    total_weight = np.sum(np.multiply(gauss_mask, valid_mask))\n",
    "    half_window = int((window_size - 1) / 2); \n",
    "    ssd = []\n",
    "    pixel_val = []\n",
    "    src_row=sample.shape[0];\n",
    "    src_col=sample.shape[0];\n",
    "    ERROR_THRESHOLD=0.1\n",
    "    for i in range(half_window, src_row-half_window-1):\n",
    "        for j in range(half_window, src_col-half_window-1):\n",
    "            distance1= (template[:,:,0] - sample[i-half_window:i + half_window + 1, j - half_window:j + half_window + 1,0]) ** 2;\n",
    "            distance2= (template[:,:,1] - sample[i-half_window:i + half_window + 1, j - half_window:j + half_window + 1,1]) ** 2;\n",
    "            distance3= (template[:,:,2] - sample[i-half_window:i + half_window + 1, j - half_window:j + half_window + 1,2]) ** 2;\n",
    "            ssd.append(np.sum(distance1 * gauss_mask * valid_mask+distance2 * gauss_mask * valid_mask+distance3 * gauss_mask * valid_mask) / total_weight)\n",
    "            pixel_val.append((sample[i,j][0],sample[i, j][1],sample[i, j][2]))\n",
    "            #print(\"l\",sample[i,j][0],sample[i,j,0])\n",
    "\n",
    "    min_error = min(ssd)\n",
    "    \n",
    "    rPack=[]\n",
    "\n",
    "    for i in range(len(ssd)):\n",
    "        if ssd[i]<=min_error*(1+ERROR_THRESHOLD):\n",
    "            rPack.append((ssd[i], pixel_val[i]))\n",
    "\n",
    "    \n",
    "    return  rPack"
   ]
  },
  {
   "cell_type": "markdown",
   "metadata": {
    "colab_type": "text",
    "id": "dL_bp42ob1AT"
   },
   "source": [
    "### Synthesize texture function"
   ]
  },
  {
   "cell_type": "code",
   "execution_count": 0,
   "metadata": {
    "colab": {},
    "colab_type": "code",
    "id": "EOOIwV57b-eT"
   },
   "outputs": [],
   "source": [
    "from random import randint\n",
    "def synth_texture(sample, window_size, out_size):\n",
    "    # normalize pixel intensity\n",
    "    pixel_window = window_size ** 2\n",
    "    half_window =ceil ((window_size - 1) / 2) # we know that thw widows will be odd.\n",
    "    sample = sample.astype(np.float64)\n",
    "    sample = sample / 255.0\n",
    "    \n",
    "    seed_size = 3\n",
    "    max_error_threshold=0.3;\n",
    "    [sheight, swidth, channels] = sample.shape\n",
    "    synth_img = np.zeros((*out_size, channels))\n",
    "\n",
    "    # initialization: pick a random 3x3 patch from sample and place in the middle of the synthesized image\n",
    "    rh = round(seed_size + np.random.uniform(0,1) * (sheight - 2 * seed_size))\n",
    "    rw = round(seed_size + np.random.uniform(0,1) * (swidth - 2 * seed_size))\n",
    "    center = [round(.5 * x) for x in out_size] # center\n",
    "    synth_img[center[0]: center[0] + seed_size, center[1]: center[1] + seed_size ,:] = sample[rh: rh + seed_size , rw: rw + seed_size,:]\n",
    "\n",
    "    # bitmap indicating filled pixels, the seed patch is initially filled\n",
    "    \n",
    "\n",
    "    # TODO\n",
    "    # intialize 2D zero-mean gaussian w/ variance = (window_size / 6.4)\n",
    "    sigma = window_size / 6.4;\n",
    "    ax = np.linspace(-(out_size[0] - 1) / 2., (out_size[1] - 1) / 2., out_size[0])\n",
    "    xx, yy = np.meshgrid(ax, ax)\n",
    "    gaussian_mask=np.exp(-0.5 * (np.square(xx) + np.square(yy)) / (sigma**2))/(2*(np.pi)*sigma**2);\n",
    "    # main loop: repeat until all pixels are filled\n",
    "    n_pixels = out_size[0]*out_size[1]\n",
    "    next_p = n_pixels / 10;\n",
    "    \n",
    "    filled = np.zeros(out_size)\n",
    "    filled[center[0]: center[0] + seed_size , center[1]: center[1] + seed_size] = 1\n",
    "    image_padded = np.lib.pad(synth_img, half_window, 'constant', constant_values=0)\n",
    "    filled_padded = np.lib.pad(filled, half_window, 'constant', constant_values=0)\n",
    "\n",
    "      \n",
    "    \n",
    "    num_filled = int(np.sum(filled))\n",
    "      \n",
    "    while(num_filled < n_pixels):\n",
    "        progress=0;\n",
    "        if(num_filled > next_p):\n",
    "            print(round(100 * num_filled / n_pixels), '% complete')\n",
    "            next_p += n_pixels / 10\n",
    "\n",
    "        \n",
    "        # get list of unfilled pixels as (x, y) coordinates\n",
    "        unfilled_row, unfilled_col = np.nonzero(morphology.binary_dilation(filled) - filled);\n",
    "        neighbor= [];\n",
    "        \n",
    "        # hint: use dilation and masking to efficiently find unfilled neighboring pixels\n",
    "        for i in range(len(unfilled_row)):\n",
    "            pixel_row = unfilled_row[i]\n",
    "            pixel_col = unfilled_col[i]\n",
    "            neighbor.append(np.sum(filled[pixel_row-half_window : pixel_row + half_window + 1,pixel_col-half_window : pixel_col + half_window + 1]))\n",
    "        # print candidate_pixel_row.shape\n",
    "        order = np.argsort(-np.array(neighbor, dtype=int))\n",
    "        # TODO:\n",
    "        # (optional, but recommended) randomly permute and sort list of pixels decreasing number of filled neighbor pixels\n",
    "\n",
    "        # TODO:\n",
    "        # iterate over the list of pixels\n",
    "        \n",
    "        for x, i in enumerate(order):\n",
    "          # TODO:\n",
    "          pixel_row = unfilled_row[i]\n",
    "          pixel_col = unfilled_col[i]\n",
    "          # place window with center as (x, y) and use as template\n",
    "          \n",
    "          best_match = find_mathces(image_padded[pixel_row - half_window + half_window:pixel_row + half_window + half_window + 1,pixel_col - half_window + half_window:pixel_col + half_window + half_window + 1,:],sample,filled_padded[pixel_row - half_window + half_window:pixel_row + half_window + half_window + 1,pixel_col - half_window + half_window:pixel_col + half_window + half_window + 1],gaussian_mask,window_size);\n",
    "          #print(\"help\",len(best_match))'\n",
    "          #print(\"sal\")\n",
    "          pick = randint(0, len(best_match)-1);\n",
    "          #print(\"S\",best_match[pick][1])\n",
    "          #print(\"l\",best_match[pick][1][0],best_match[pick][1])\n",
    "          if best_match[pick][0]<=max_error_threshold:\n",
    "              image_padded[half_window+pixel_row][half_window+pixel_col][0] = best_match[pick][1][0]\n",
    "              image_padded[half_window+pixel_row][half_window+pixel_col][1] = best_match[pick][1][1]\n",
    "              image_padded[half_window+pixel_row][half_window+pixel_col][2] = best_match[pick][1][2]\n",
    "              synth_img[pixel_row][pixel_col][0]=best_match[pick][1][0]\n",
    "              synth_img[pixel_row][pixel_col][1]=best_match[pick][1][1]\n",
    "              synth_img[pixel_row][pixel_col][2]=best_match[pick][1][2]\n",
    "              #print(\"l\",synth_img[pixel_row][pixel_col][2])\n",
    "              filled_padded[half_window+pixel_row][half_window+pixel_col] = 1\n",
    "              filled[pixel_row][pixel_col]=1\n",
    "              num_filled+=1\n",
    "              progress = 1;\n",
    "              #print(\"L\",num_filled)\n",
    "          if progress==0:\n",
    "            max_error_threshold *= 1.1\n",
    " \n",
    "          # TODO:\n",
    "          # find the best matching windows from sample image\n",
    "          # randomly sample one from best matches\n",
    "          \n",
    "    \n",
    "\n",
    "    return synth_img*255"
   ]
  },
  {
   "cell_type": "markdown",
   "metadata": {
    "colab_type": "text",
    "id": "ar9WGk44b_Aw"
   },
   "source": [
    "### Main function\n",
    "\n",
    "Run the texture synthesis algorithm to generate texture of new shape. "
   ]
  },
  {
   "cell_type": "code",
   "execution_count": 245,
   "metadata": {
    "colab": {
     "base_uri": "https://localhost:8080/",
     "height": 878
    },
    "colab_type": "code",
    "id": "cE0a6bhJcBbp",
    "outputId": "ac92f34c-298b-4eb7-e944-8aa4576794aa"
   },
   "outputs": [
    {
     "name": "stdout",
     "output_type": "stream",
     "text": [
      "Source Image\n"
     ]
    },
    {
     "data": {
      "image/png": "[encoded data removed]",
      "text/plain": [
       "<PIL.Image.Image image mode=RGB size=34x34 at 0x7F3FE25CCD30>"
      ]
     },
     "metadata": {
      "tags": []
     },
     "output_type": "display_data"
    },
    {
     "name": "stdout",
     "output_type": "stream",
     "text": [
      "10 % complete\n",
      "20 % complete\n",
      "32 % complete\n",
      "42 % complete\n",
      "51 % complete\n",
      "61 % complete\n",
      "71 % complete\n",
      "80 % complete\n",
      "91 % complete\n",
      "Target Image\n"
     ]
    },
    {
     "data": {
      "image/png": "[encoded data removed]",
      "text/plain": [
       "<PIL.Image.Image image mode=RGB size=100x100 at 0x7F3FE25CC3C8>"
      ]
     },
     "metadata": {
      "tags": []
     },
     "output_type": "display_data"
    },
    {
     "name": "stdout",
     "output_type": "stream",
     "text": [
      "11 % complete\n",
      "20 % complete\n",
      "30 % complete\n",
      "40 % complete\n",
      "52 % complete\n",
      "61 % complete\n",
      "71 % complete\n",
      "81 % complete\n",
      "90 % complete\n",
      "Target Image\n"
     ]
    },
    {
     "data": {
      "image/png": "[encoded data removed]",
      "text/plain": [
       "<PIL.Image.Image image mode=RGB size=100x100 at 0x7F3FE25CC0B8>"
      ]
     },
     "metadata": {
      "tags": []
     },
     "output_type": "display_data"
    },
    {
     "name": "stdout",
     "output_type": "stream",
     "text": [
      "10 % complete\n",
      "21 % complete\n",
      "31 % complete\n",
      "41 % complete\n",
      "51 % complete\n",
      "60 % complete\n",
      "70 % complete\n",
      "80 % complete\n",
      "91 % complete\n",
      "Target Image\n"
     ]
    },
    {
     "data": {
      "image/png": "[encoded data removed]",
      "text/plain": [
       "<PIL.Image.Image image mode=RGB size=100x100 at 0x7F3FE25CC3C8>"
      ]
     },
     "metadata": {
      "tags": []
     },
     "output_type": "display_data"
    }
   ],
   "source": [
    "# Texture synthesis on rings\n",
    "import scipy.ndimage.filters as fi\n",
    "source = cv2.imread('rings.jpg')\n",
    "window_sizes = [5, 7, 13] \n",
    "out_size = [100, 100]\n",
    "\n",
    "print('Source Image')\n",
    "cv2_imshow(source)\n",
    "\n",
    "for w in window_sizes:\n",
    "  target = synth_texture(source, w, out_size)\n",
    "  \n",
    "  print('Target Image')\n",
    "  cv2_imshow(target)\n",
    "\n",
    "w = 5\n",
    "\n"
   ]
  },
  {
   "cell_type": "code",
   "execution_count": 246,
   "metadata": {
    "colab": {
     "base_uri": "https://localhost:8080/",
     "height": 372
    },
    "colab_type": "code",
    "id": "Bb_pJ-zx5O3w",
    "outputId": "94cbfbc5-3922-4217-ce0e-947a11c94b7f"
   },
   "outputs": [
    {
     "name": "stdout",
     "output_type": "stream",
     "text": [
      "Source Image\n"
     ]
    },
    {
     "data": {
      "image/png": "[encoded data removed]",
      "text/plain": [
       "<PIL.Image.Image image mode=RGB size=68x68 at 0x7F3FE235CA58>"
      ]
     },
     "metadata": {
      "tags": []
     },
     "output_type": "display_data"
    },
    {
     "name": "stdout",
     "output_type": "stream",
     "text": [
      "10 % complete\n",
      "21 % complete\n",
      "31 % complete\n",
      "41 % complete\n",
      "51 % complete\n",
      "60 % complete\n",
      "70 % complete\n",
      "80 % complete\n",
      "91 % complete\n",
      "Target Image\n"
     ]
    },
    {
     "data": {
      "image/png": "[encoded data removed]",
      "text/plain": [
       "<PIL.Image.Image image mode=RGB size=100x100 at 0x7F3FE2CFF3C8>"
      ]
     },
     "metadata": {
      "tags": []
     },
     "output_type": "display_data"
    }
   ],
   "source": [
    "# Texture synthesis on colored image\n",
    "w=5;\n",
    "source = cv2.imread('texture.jpg')\n",
    "print('Source Image')\n",
    "cv2_imshow(source)\n",
    "target = synth_texture(source, w, out_size)\n",
    "print('Target Image')\n",
    "cv2_imshow(target)\n",
    "\n"
   ]
  },
  {
   "cell_type": "markdown",
   "metadata": {
    "colab_type": "text",
    "id": "08yBXdSHL2rq"
   },
   "source": [
    "Choosing bigger windows will take longer but the result will be more similar to the original picture"
   ]
  },
  {
   "cell_type": "code",
   "execution_count": 377,
   "metadata": {
    "colab": {
     "base_uri": "https://localhost:8080/",
     "height": 440
    },
    "colab_type": "code",
    "id": "iXcy4UDHA7D_",
    "outputId": "963ad6ea-c1f7-4898-a772-2b70facaf4ce"
   },
   "outputs": [
    {
     "name": "stdout",
     "output_type": "stream",
     "text": [
      "Source Image\n"
     ]
    },
    {
     "data": {
      "image/png": "[encoded data removed]",
      "text/plain": [
       "<PIL.Image.Image image mode=RGB size=136x136 at 0x7F3FE02099E8>"
      ]
     },
     "metadata": {
      "tags": []
     },
     "output_type": "display_data"
    },
    {
     "name": "stdout",
     "output_type": "stream",
     "text": [
      "11 % complete\n",
      "20 % complete\n",
      "30 % complete\n",
      "40 % complete\n",
      "52 % complete\n",
      "61 % complete\n",
      "71 % complete\n",
      "81 % complete\n",
      "90 % complete\n",
      "Target Image\n"
     ]
    },
    {
     "data": {
      "image/png": "[encoded data removed]",
      "text/plain": [
       "<PIL.Image.Image image mode=RGB size=100x100 at 0x7F3FE02607F0>"
      ]
     },
     "metadata": {
      "tags": []
     },
     "output_type": "display_data"
    }
   ],
   "source": [
    "# Don't need to submit this one\n",
    "source = cv2.imread('jigsaw.jpg')\n",
    "print('Source Image')\n",
    "cv2_imshow(source)\n",
    "target = synth_texture(source, w, out_size)\n",
    "print('Target Image')\n",
    "cv2_imshow(target)"
   ]
  }
 ],
 "metadata": {
  "colab": {
   "collapsed_sections": [],
   "name": "Copy of EECS 504 Pset 3: Motion Magnification and Texture Synthesis.ipynb",
   "provenance": [],
   "toc_visible": true
  },
  "kernelspec": {
   "display_name": "Python 3",
   "language": "python",
   "name": "python3"
  },
  "language_info": {
   "codemirror_mode": {
    "name": "ipython",
    "version": 3
   },
   "file_extension": ".py",
   "mimetype": "text/x-python",
   "name": "python",
   "nbconvert_exporter": "python",
   "pygments_lexer": "ipython3",
   "version": "3.7.3"
  }
 },
 "nbformat": 4,
 "nbformat_minor": 1
}
